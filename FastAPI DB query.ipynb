{
 "cells": [
  {
   "cell_type": "markdown",
   "id": "b062c37e",
   "metadata": {},
   "source": [
    "<center><img src=\"https://camillovisini.com/assets/PscQ-n8jTs-600.a4c43ba0.jpeg\"></center>"
   ]
  },
  {
   "cell_type": "markdown",
   "id": "49146365",
   "metadata": {},
   "source": [
    "---\n",
    "# <center>FastAPI Database Queries</center>\n",
    "---"
   ]
  },
  {
   "cell_type": "markdown",
   "id": "8a5ea49a",
   "metadata": {},
   "source": [
    "## <center>Basic Queries:</center>\n",
    "\n",
    "1. query(): Create a query object to interact with the database.\n",
    "2. filter(): Apply filtering complex conditions to the query results.\n",
    "3. filter_by(): Apply filtering allows you to specify filtering conditions using keyword arguments.\n",
    "4. all(): Return all records that match the query conditions.\n",
    "5. first(): Return the first record that matches the query conditions.\n",
    "6. one(): Return the first record that matches the query conditions or raise an exception if no record or multiple records are found.\n",
    "7. get(): Retrieve a record by its primary key or return None if not found."
   ]
  },
  {
   "cell_type": "markdown",
   "id": "5e3b9750",
   "metadata": {},
   "source": [
    "---"
   ]
  },
  {
   "cell_type": "markdown",
   "id": "24b6b493",
   "metadata": {},
   "source": [
    "## query()"
   ]
  },
  {
   "cell_type": "markdown",
   "id": "2cd38509",
   "metadata": {},
   "source": [
    "    query(): Create a query object to interact with the database."
   ]
  },
  {
   "cell_type": "markdown",
   "id": "40b61b19",
   "metadata": {},
   "source": [
    "**code** :"
   ]
  },
  {
   "cell_type": "markdown",
   "id": "758044cb",
   "metadata": {},
   "source": [
    "    from sqlalchemy.orm import sessionmaker\n",
    "\n",
    "    Session = sessionmaker(bind=engine)\n",
    "    session = Session()\n",
    "\n",
    "    query = session.query(User)  # Creates a query object for the User model\n"
   ]
  },
  {
   "cell_type": "markdown",
   "id": "e612401f",
   "metadata": {},
   "source": [
    "##  filter()"
   ]
  },
  {
   "cell_type": "markdown",
   "id": "6824a9d1",
   "metadata": {},
   "source": [
    "    Apply filtering conditions to the query results."
   ]
  },
  {
   "cell_type": "markdown",
   "id": "beeaf790",
   "metadata": {},
   "source": [
    "**code** :"
   ]
  },
  {
   "cell_type": "markdown",
   "id": "3d0c0d24",
   "metadata": {},
   "source": [
    "    from sqlalchemy import and_, or_\n",
    "\n",
    "    # Filtering with AND condition\n",
    "    query = session.query(User).filter(User.age >= 18, User.is_active == True)\n",
    "\n",
    "    # Filtering with OR condition\n",
    "    query = session.query(User).filter(or_(User.age >= 18, User.is_admin == True))\n",
    "\n"
   ]
  },
  {
   "cell_type": "markdown",
   "id": "cc5a2edb-7002-48ef-9eae-1fa8596e04c5",
   "metadata": {},
   "source": [
    "##  filter_by():"
   ]
  },
  {
   "cell_type": "markdown",
   "id": "720ff5ec-bfb1-4ab3-a56c-781b7035a772",
   "metadata": {},
   "source": [
    "    Apply filtering allows you to specify filtering conditions using keyword arguments."
   ]
  },
  {
   "cell_type": "markdown",
   "id": "f0cae40d-d179-452b-9d66-b82cf9d4d213",
   "metadata": {},
   "source": [
    "**code** :"
   ]
  },
  {
   "cell_type": "markdown",
   "id": "cccf3f2d-dca9-4f66-b69a-408387d91473",
   "metadata": {},
   "source": [
    "from sqlalchemy.orm import Session\r\n",
    "\n",
    " Assuming you have a User model and a database session 'd :b    \n",
    "`'\r\n",
    "query = db.query(User).filter_by(username=\"john_doe\", is_active=True).al`l()\r\n"
   ]
  },
  {
   "cell_type": "markdown",
   "id": "4b21db85",
   "metadata": {},
   "source": [
    "## all()"
   ]
  },
  {
   "cell_type": "markdown",
   "id": "a79e944a",
   "metadata": {},
   "source": [
    "    Return all records that match the query conditions."
   ]
  },
  {
   "cell_type": "markdown",
   "id": "c3471c39",
   "metadata": {},
   "source": [
    "**code** :"
   ]
  },
  {
   "cell_type": "markdown",
   "id": "a46e0436",
   "metadata": {},
   "source": [
    "    users = query.all()"
   ]
  },
  {
   "cell_type": "markdown",
   "id": "850c0910",
   "metadata": {},
   "source": [
    "## first()"
   ]
  },
  {
   "cell_type": "markdown",
   "id": "a01fb037",
   "metadata": {},
   "source": [
    "    first(): Return the first record that matches the query conditions.\n"
   ]
  },
  {
   "cell_type": "markdown",
   "id": "06b44562",
   "metadata": {},
   "source": [
    "**code** :"
   ]
  },
  {
   "cell_type": "markdown",
   "id": "1b9c7f62",
   "metadata": {},
   "source": [
    "    users = query.first()"
   ]
  },
  {
   "cell_type": "markdown",
   "id": "03b17b67",
   "metadata": {},
   "source": [
    "## one()"
   ]
  },
  {
   "cell_type": "markdown",
   "id": "439a16ff",
   "metadata": {},
   "source": [
    "    one(): Return the first record that matches the query conditions or raise an exception if no record or multiple records are found.\n"
   ]
  },
  {
   "cell_type": "markdown",
   "id": "cc05576d",
   "metadata": {},
   "source": [
    "**code** :"
   ]
  },
  {
   "cell_type": "markdown",
   "id": "187debf6",
   "metadata": {},
   "source": [
    "    user = query.one()"
   ]
  },
  {
   "cell_type": "markdown",
   "id": "cec1ef93",
   "metadata": {},
   "source": [
    "## get()"
   ]
  },
  {
   "cell_type": "markdown",
   "id": "ce5dde47",
   "metadata": {},
   "source": [
    "    get(): Retrieve a record by its primary key or return None if not found.\n",
    "\n"
   ]
  },
  {
   "cell_type": "markdown",
   "id": "723b0131",
   "metadata": {},
   "source": [
    "**code** :"
   ]
  },
  {
   "cell_type": "markdown",
   "id": "359d94d7",
   "metadata": {},
   "source": [
    "    user = session.query(User).get(1)  # Assuming 1 is the primary key value"
   ]
  },
  {
   "cell_type": "markdown",
   "id": "9bda40e0",
   "metadata": {},
   "source": [
    "---"
   ]
  },
  {
   "cell_type": "markdown",
   "id": "e125cb5c",
   "metadata": {},
   "source": [
    "# <center>Filtering and Conditionals:</center>\n",
    "\n",
    "1. and_(): Combine multiple filtering conditions with the logical AND operator.\n",
    "2. or_(): Combine multiple filtering conditions with the logical OR operator.\n",
    "3. not_(): Negate a filtering condition.\n"
   ]
  },
  {
   "cell_type": "markdown",
   "id": "f8eb1a6a",
   "metadata": {},
   "source": [
    "## And()"
   ]
  },
  {
   "cell_type": "markdown",
   "id": "6d3d92af",
   "metadata": {},
   "source": [
    "    and_(): Combine multiple filtering conditions with the logical AND operator.\n"
   ]
  },
  {
   "cell_type": "markdown",
   "id": "22c4e1d9",
   "metadata": {},
   "source": [
    "**code** :"
   ]
  },
  {
   "cell_type": "markdown",
   "id": "36ec9837",
   "metadata": {},
   "source": [
    "    from sqlalchemy import and_\n",
    "\n",
    "    query = session.query(User).filter(and_(User.age >= 18, User.is_active == True))"
   ]
  },
  {
   "cell_type": "markdown",
   "id": "f371579f",
   "metadata": {},
   "source": [
    "## OR()"
   ]
  },
  {
   "cell_type": "markdown",
   "id": "6e505232",
   "metadata": {},
   "source": [
    "    or_(): Combine multiple filtering conditions with the logical OR operator."
   ]
  },
  {
   "cell_type": "markdown",
   "id": "7b55889f",
   "metadata": {},
   "source": [
    "**code** :"
   ]
  },
  {
   "cell_type": "markdown",
   "id": "0f456238",
   "metadata": {},
   "source": [
    "    from sqlalchemy import or_\n",
    "    \n",
    "    query = session.query(User).filter(or_(User.age >= 18, User.is_admin == True))\n"
   ]
  },
  {
   "cell_type": "markdown",
   "id": "70c5c3ca",
   "metadata": {},
   "source": [
    "## Not()"
   ]
  },
  {
   "cell_type": "markdown",
   "id": "0644163c",
   "metadata": {},
   "source": [
    "    not_(): Negate a filtering condition."
   ]
  },
  {
   "cell_type": "markdown",
   "id": "90db2636",
   "metadata": {},
   "source": [
    "**code** :"
   ]
  },
  {
   "cell_type": "markdown",
   "id": "63420fb3",
   "metadata": {},
   "source": [
    "    from sqlalchemy import not_\n",
    "\n",
    "    query = session.query(User).filter(not_(User.is_active == False))\n"
   ]
  },
  {
   "cell_type": "markdown",
   "id": "0ea0fbef",
   "metadata": {},
   "source": [
    "# (~)"
   ]
  },
  {
   "cell_type": "markdown",
   "id": "60bcd97e",
   "metadata": {},
   "source": [
    "    In SQLAlchemy, the tilde (~) operator is used as a bitwise NOT operator when performing queries. It is used to negate filtering conditions, making it convenient to express conditions where a particular condition should not be true."
   ]
  },
  {
   "cell_type": "markdown",
   "id": "3e7cddcb",
   "metadata": {},
   "source": [
    "**code** :"
   ]
  },
  {
   "cell_type": "markdown",
   "id": "fecd6d0b",
   "metadata": {},
   "source": [
    "    from sqlalchemy import not_\n",
    "\n",
    "    # Assuming you have a User model with age and is_active attributes\n",
    "    # We want to retrieve users who are not active\n",
    "    \n",
    "    query = session.query(User).filter(~User.is_active)\n",
    "    inactive_users = query.all()\n"
   ]
  },
  {
   "cell_type": "markdown",
   "id": "63cf2bbd",
   "metadata": {},
   "source": [
    "    In this example, the ~User.is_active expression negates the filtering condition. It will return all users where the is_active attribute is not True or is False. Essentially, it fetches users who are not active. ☝"
   ]
  },
  {
   "cell_type": "markdown",
   "id": "ababda27",
   "metadata": {},
   "source": [
    "**Code :**\n",
    "\n",
    "    # Assuming you have a User model with age attribute\n",
    "    # We want to retrieve users who are not 25 years old\n",
    "    \n",
    "    query = session.query(User).filter(~(User.age == 25))\n",
    "    users_not_25_years_old = query.all()\n"
   ]
  },
  {
   "cell_type": "markdown",
   "id": "57986ad5",
   "metadata": {},
   "source": [
    "    Here, ~(User.age == 25) negates the condition, so it fetches users whose age is not equal to 25."
   ]
  },
  {
   "cell_type": "markdown",
   "id": "0f441ca8",
   "metadata": {},
   "source": [
    "---"
   ]
  },
  {
   "cell_type": "markdown",
   "id": "c579db55",
   "metadata": {},
   "source": [
    "# <center>Sorting:</center>\n",
    "\n",
    "## Order_by()"
   ]
  },
  {
   "cell_type": "markdown",
   "id": "fbdd799f",
   "metadata": {},
   "source": [
    "1. order_by(): Specify the sorting order of the query results based on one or more columns."
   ]
  },
  {
   "cell_type": "markdown",
   "id": "49a3b43f",
   "metadata": {},
   "source": [
    "**code** :"
   ]
  },
  {
   "cell_type": "markdown",
   "id": "2f359f8c",
   "metadata": {},
   "source": [
    "    from sqlalchemy import desc\n",
    "\n",
    "    query = session.query(User).order_by(desc(User.age))  # Sort by age in descending order\n"
   ]
  },
  {
   "cell_type": "markdown",
   "id": "4c83220d",
   "metadata": {},
   "source": [
    "---"
   ]
  },
  {
   "cell_type": "markdown",
   "id": "b8ec89ea",
   "metadata": {},
   "source": [
    "# <center>Limiting and Paging:</center>\n",
    "\n",
    "1. limit(): Limit the number of results returned by the query.\n",
    "2. offset(): Skip a specified number of results from the beginning of the query result."
   ]
  },
  {
   "cell_type": "markdown",
   "id": "89ea75e3",
   "metadata": {},
   "source": [
    "## limit()"
   ]
  },
  {
   "cell_type": "markdown",
   "id": "d4660016",
   "metadata": {},
   "source": [
    "    limit(): Limit the number of results returned by the query.\n"
   ]
  },
  {
   "cell_type": "markdown",
   "id": "59c79786",
   "metadata": {},
   "source": [
    "**code** :"
   ]
  },
  {
   "cell_type": "markdown",
   "id": "400a1ee8",
   "metadata": {},
   "source": [
    "    query = session.query(User).limit(10)  # Return only the first 10 results"
   ]
  },
  {
   "cell_type": "markdown",
   "id": "05b53cb0",
   "metadata": {},
   "source": [
    "## offset()"
   ]
  },
  {
   "cell_type": "markdown",
   "id": "d0751861",
   "metadata": {},
   "source": [
    "    offset(): Skip a specified number of results from the beginning of the query result.\n"
   ]
  },
  {
   "cell_type": "markdown",
   "id": "4f7c3a85",
   "metadata": {},
   "source": [
    "**code** :"
   ]
  },
  {
   "cell_type": "markdown",
   "id": "bd511008",
   "metadata": {},
   "source": [
    "    query = session.query(User).offset(20)  # Skip the first 20 results"
   ]
  },
  {
   "cell_type": "markdown",
   "id": "fa9ede33",
   "metadata": {},
   "source": [
    "---"
   ]
  },
  {
   "cell_type": "markdown",
   "id": "2df49ca3",
   "metadata": {},
   "source": [
    "# <center>Aggregations and Grouping:</center>\n",
    "\n",
    "1. func.count(): Calculate the count of records.\n",
    "2. func.sum(): Calculate the sum of a column.\n",
    "3. func.avg(): Calculate the average of a column.\n",
    "4. func.min(): Find the minimum value of a column.\n",
    "5. func.max(): Find the maximum value of a column.\n",
    "6. group_by(): Group the results based on one or more columns.\n"
   ]
  },
  {
   "cell_type": "markdown",
   "id": "fd0b586a",
   "metadata": {},
   "source": [
    "## func.count()"
   ]
  },
  {
   "cell_type": "markdown",
   "id": "2bf80521",
   "metadata": {},
   "source": [
    "    func.count(): Calculate the count of records."
   ]
  },
  {
   "cell_type": "markdown",
   "id": "42f77af5",
   "metadata": {},
   "source": [
    "**code** :"
   ]
  },
  {
   "cell_type": "markdown",
   "id": "182c0668",
   "metadata": {},
   "source": [
    "    from sqlalchemy import func\n",
    "\n",
    "    count = session.query(func.count(User.id)).scalar()\n"
   ]
  },
  {
   "cell_type": "markdown",
   "id": "31324f79",
   "metadata": {},
   "source": [
    "## func.sum()"
   ]
  },
  {
   "cell_type": "markdown",
   "id": "f28ce2e2",
   "metadata": {},
   "source": [
    "    func.sum(): Calculate the sum of a column."
   ]
  },
  {
   "cell_type": "markdown",
   "id": "36b6e944",
   "metadata": {},
   "source": [
    "**code** :"
   ]
  },
  {
   "cell_type": "markdown",
   "id": "cb279439",
   "metadata": {},
   "source": [
    "       total_salary = session.query(func.sum(User.salary)).scalar()\n"
   ]
  },
  {
   "cell_type": "markdown",
   "id": "68fb4a56",
   "metadata": {},
   "source": [
    "## func.avg()"
   ]
  },
  {
   "cell_type": "markdown",
   "id": "1cb87acc",
   "metadata": {},
   "source": [
    "    func.avg(): Calculate the average of a column."
   ]
  },
  {
   "cell_type": "markdown",
   "id": "af7a1eff",
   "metadata": {},
   "source": [
    "**code** :"
   ]
  },
  {
   "cell_type": "markdown",
   "id": "e8c320be",
   "metadata": {},
   "source": [
    "      average_age = session.query(func.avg(User.age)).scalar()"
   ]
  },
  {
   "cell_type": "markdown",
   "id": "9232d4c5",
   "metadata": {},
   "source": [
    "## func.min()"
   ]
  },
  {
   "cell_type": "markdown",
   "id": "250b4955",
   "metadata": {},
   "source": [
    "    func.min(): Find the minimum value of a column.\n"
   ]
  },
  {
   "cell_type": "markdown",
   "id": "03c6e8df",
   "metadata": {},
   "source": [
    "**code** :"
   ]
  },
  {
   "cell_type": "markdown",
   "id": "574bf811",
   "metadata": {},
   "source": [
    "      min_age = session.query(func.min(User.age)).scalar()"
   ]
  },
  {
   "cell_type": "markdown",
   "id": "15fd282d",
   "metadata": {},
   "source": [
    "## func.max()"
   ]
  },
  {
   "cell_type": "markdown",
   "id": "6c35b7fc",
   "metadata": {},
   "source": [
    "    func.max(): Find the maximum value of a column.\n"
   ]
  },
  {
   "cell_type": "markdown",
   "id": "277a7cb3",
   "metadata": {},
   "source": [
    "**code** :"
   ]
  },
  {
   "cell_type": "markdown",
   "id": "9e30eeae",
   "metadata": {},
   "source": [
    "      max_salary = session.query(func.max(User.salary)).scalar()\n"
   ]
  },
  {
   "cell_type": "markdown",
   "id": "68785a0e",
   "metadata": {},
   "source": [
    "## func.group_by()"
   ]
  },
  {
   "cell_type": "markdown",
   "id": "33792093",
   "metadata": {},
   "source": [
    "    group_by(): Group the results based on one or more columns."
   ]
  },
  {
   "cell_type": "markdown",
   "id": "a32f7df5",
   "metadata": {},
   "source": [
    "**code** :"
   ]
  },
  {
   "cell_type": "markdown",
   "id": "94e8f835",
   "metadata": {},
   "source": [
    "    from sqlalchemy import func\n",
    "\n",
    "    query = session.query(User.age, func.count(User.id)).group_by(User.age)\n"
   ]
  },
  {
   "cell_type": "markdown",
   "id": "38afe8d9",
   "metadata": {},
   "source": [
    "---"
   ]
  },
  {
   "cell_type": "markdown",
   "id": "50f0f119",
   "metadata": {},
   "source": [
    "# <center>Joins:</center>\n",
    "\n",
    "1. join(): Perform an inner join with another table.\n",
    "2. outerjoin(): Perform an outer join with another table."
   ]
  },
  {
   "cell_type": "markdown",
   "id": "7032e4a6",
   "metadata": {},
   "source": [
    "## join()"
   ]
  },
  {
   "cell_type": "markdown",
   "id": "e17116a2",
   "metadata": {},
   "source": [
    "    join(): Perform an inner join with another table."
   ]
  },
  {
   "cell_type": "markdown",
   "id": "dda5e450",
   "metadata": {},
   "source": [
    "**code** :"
   ]
  },
  {
   "cell_type": "markdown",
   "id": "f5e57341",
   "metadata": {},
   "source": [
    "    from sqlalchemy import join\n",
    "\n",
    "    query = session.query(User).join(Post, User.id == Post.user_id)"
   ]
  },
  {
   "cell_type": "markdown",
   "id": "cae8c151",
   "metadata": {},
   "source": [
    "## outerjoin()"
   ]
  },
  {
   "cell_type": "markdown",
   "id": "4ae0b674",
   "metadata": {},
   "source": [
    "    outerjoin(): Perform an outer join with another table.\n"
   ]
  },
  {
   "cell_type": "markdown",
   "id": "77d998c3",
   "metadata": {},
   "source": [
    "**code** :"
   ]
  },
  {
   "cell_type": "markdown",
   "id": "31cd8b65",
   "metadata": {},
   "source": [
    "    from sqlalchemy import outerjoin\n",
    "\n",
    "    query = session.query(User).outerjoin(Post, User.id == Post.user_id)\n"
   ]
  },
  {
   "cell_type": "markdown",
   "id": "d4acc9ad",
   "metadata": {},
   "source": [
    "---"
   ]
  },
  {
   "cell_type": "markdown",
   "id": "20e106db",
   "metadata": {},
   "source": [
    "# <center>Subqueries:</center>\n",
    "\n",
    "1. subquery(): Create a subquery to be used within another query.\n",
    "Aliases:\n",
    "\n",
    "2. aliased(): Create an alias for a table or query.\n"
   ]
  },
  {
   "cell_type": "markdown",
   "id": "a30450ab",
   "metadata": {},
   "source": [
    "## Subqueries()"
   ]
  },
  {
   "cell_type": "markdown",
   "id": "a1d2c295",
   "metadata": {},
   "source": [
    "    subquery(): Create a subquery to be used within another query."
   ]
  },
  {
   "cell_type": "markdown",
   "id": "27d312e7",
   "metadata": {},
   "source": [
    "**code** :"
   ]
  },
  {
   "cell_type": "markdown",
   "id": "a3d059f1",
   "metadata": {},
   "source": [
    "    from sqlalchemy import subquery\n",
    "\n",
    "    subquery = session.query(User.id).filter(User.age >= 18).subquery()\n",
    "    query = session.query(Post).filter(Post.user_id.in_(subquery))\n",
    "\n"
   ]
  },
  {
   "cell_type": "markdown",
   "id": "e4a59c62",
   "metadata": {},
   "source": [
    "## Aliases()"
   ]
  },
  {
   "cell_type": "markdown",
   "id": "4a5cc1b5",
   "metadata": {},
   "source": [
    "    aliased(): Create an alias for a table or query."
   ]
  },
  {
   "cell_type": "markdown",
   "id": "b11bbdba",
   "metadata": {},
   "source": [
    "**code** :"
   ]
  },
  {
   "cell_type": "markdown",
   "id": "9e033ed1",
   "metadata": {},
   "source": [
    "    from sqlalchemy.orm import aliased\n",
    "\n",
    "    user_alias = aliased(User)\n",
    "    query = session.query(User, user_alias).join(user_alias, User.age == user_alias.age)"
   ]
  },
  {
   "cell_type": "markdown",
   "id": "2522504d",
   "metadata": {},
   "source": [
    "---"
   ]
  },
  {
   "cell_type": "markdown",
   "id": "330c1267",
   "metadata": {},
   "source": [
    "# <center>Transactions:</center>\n",
    "\n",
    "1. commit(): Commit changes made during a transaction.\n",
    "2. rollback(): Roll back changes made during a transaction."
   ]
  },
  {
   "cell_type": "markdown",
   "id": "da1d2247",
   "metadata": {},
   "source": [
    "## commit()"
   ]
  },
  {
   "cell_type": "markdown",
   "id": "fd2d2640",
   "metadata": {},
   "source": [
    "    commit(): Commit changes made during a transaction.\n"
   ]
  },
  {
   "cell_type": "markdown",
   "id": "7502a7c7",
   "metadata": {},
   "source": [
    "**code** :"
   ]
  },
  {
   "cell_type": "markdown",
   "id": "6719111e",
   "metadata": {},
   "source": [
    "    try:\n",
    "        # Start a transaction\n",
    "        with SessionLocal() as db:\n",
    "        # Perform database operations\n",
    "        # ...\n",
    "\n",
    "        # Commit the changes\n",
    "        db.commit()\n",
    "\n",
    "    except Exception as e:\n",
    "        # Handle exceptions and rollback changes on error\n",
    "        db.rollback()\n",
    "        raise e\n"
   ]
  },
  {
   "cell_type": "markdown",
   "id": "b598c278",
   "metadata": {},
   "source": [
    "## rollback()"
   ]
  },
  {
   "cell_type": "markdown",
   "id": "4a64ca8e",
   "metadata": {},
   "source": [
    "    rollback(): Roll back changes made during a transaction."
   ]
  },
  {
   "cell_type": "markdown",
   "id": "8e7b28d3",
   "metadata": {},
   "source": [
    "**code** :"
   ]
  },
  {
   "cell_type": "markdown",
   "id": "07ee37a4",
   "metadata": {},
   "source": [
    "    try:\n",
    "        # Start a transaction\n",
    "        with SessionLocal() as db:\n",
    "        # Perform database operations\n",
    "        # ...\n",
    "\n",
    "        # Rollback the changes (e.g., on error)\n",
    "        db.rollback()\n",
    "\n",
    "    except Exception as e:\n",
    "        # Handle exceptions\n",
    "        raise e\n",
    "\n"
   ]
  },
  {
   "cell_type": "markdown",
   "id": "430df0d4",
   "metadata": {},
   "source": [
    "---"
   ]
  },
  {
   "cell_type": "markdown",
   "id": "3dbe45b9",
   "metadata": {},
   "source": [
    "> These are the most common querying operations that can be performed using SQLAlchemy in Python. \n",
    "SQLAlchemy provides a powerful and flexible ORM (Object-Relational Mapping) system that simplifies the process of interacting with databases, making it easier to work with your data in a Pythonic way."
   ]
  }
 ],
 "metadata": {
  "kernelspec": {
   "display_name": "Python 3 (ipykernel)",
   "language": "python",
   "name": "python3"
  },
  "language_info": {
   "codemirror_mode": {
    "name": "ipython",
    "version": 3
   },
   "file_extension": ".py",
   "mimetype": "text/x-python",
   "name": "python",
   "nbconvert_exporter": "python",
   "pygments_lexer": "ipython3",
   "version": "3.10.11"
  }
 },
 "nbformat": 4,
 "nbformat_minor": 5
}
